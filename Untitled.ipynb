{
 "cells": [
  {
   "cell_type": "code",
   "execution_count": null,
   "id": "3149024e-3102-45df-a2eb-6e22c57958ac",
   "metadata": {},
   "outputs": [],
   "source": [
    "!pip show ipython"
   ]
  },
  {
   "cell_type": "code",
   "execution_count": 4,
   "id": "42c4ef50-d6e0-44b6-aad4-66a778940eef",
   "metadata": {},
   "outputs": [],
   "source": [
    "import folium\n",
    "from IPython.display import display, HTML "
   ]
  },
  {
   "cell_type": "code",
   "execution_count": 7,
   "id": "3ee7f768-cd11-4143-a4c6-fa6a9bc86538",
   "metadata": {},
   "outputs": [
    {
     "data": {
      "text/html": [
       "<iframe src='map_usa.html' width='100%' height='500'></iframe>"
      ],
      "text/plain": [
       "<IPython.core.display.HTML object>"
      ]
     },
     "metadata": {},
     "output_type": "display_data"
    }
   ],
   "source": [
    "html = HTML(\"<iframe src='map_usa.html' width='100%' height='500'></iframe>\")\n",
    "display (HTML(\"<iframe src='map_usa.html' width='100%' height='500'></iframe>\"))"
   ]
  }
 ],
 "metadata": {
  "kernelspec": {
   "display_name": "Python 3 (ipykernel)",
   "language": "python",
   "name": "python3"
  },
  "language_info": {
   "codemirror_mode": {
    "name": "ipython",
    "version": 3
   },
   "file_extension": ".py",
   "mimetype": "text/x-python",
   "name": "python",
   "nbconvert_exporter": "python",
   "pygments_lexer": "ipython3",
   "version": "3.10.9"
  }
 },
 "nbformat": 4,
 "nbformat_minor": 5
}
