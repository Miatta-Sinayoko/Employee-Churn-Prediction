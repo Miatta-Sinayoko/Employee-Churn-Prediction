{
 "cells": [
  {
   "cell_type": "markdown",
   "id": "0c45d955-98a0-46cd-b5c6-2cc35ed3a87a",
   "metadata": {},
   "source": [
    "<div style=\"text-align: center; border: 1px solid black; padding: 10px;\">\n",
    "  <span style=\"color: blue; font-size: 45px;\">\n",
    "    IBM Employee Attrition Prediction & Analysis\n",
    "  </span>\n",
    "</div>\n"
   ]
  },
  {
   "cell_type": "markdown",
   "id": "0ed3e284-003c-4dbe-836a-1bc0e423959b",
   "metadata": {},
   "source": [
    "# <span style=\"color:green; text-align: right;\">CodeUp</span>\n",
    "# <span style=\"color:green; text-align: right;\">FINAL NOTEBOOK</span>\n",
    "\n"
   ]
  },
  {
   "cell_type": "markdown",
   "id": "1714b2ce-5137-45f1-aa2f-9d54287aa215",
   "metadata": {
    "tags": []
   },
   "source": [
    "### By: Miatta Sinayoko\n",
    "### Quintela Cohort: Data Science\n",
    "### Sourced: @data{2m1g-6v47-23,\n",
    "doi = {10.21227/2m1g-6v47},\n",
    "url = {https://dx.doi.org/10.21227/2m1g-6v47},author = {M S, Ajmal and DESHPANDE, TANMAY and Data Scientists, IBM},publisher = {IEEE Dataport},title = {IBM HR Analytics Employee Attrition & Performance},year = {2023} }\n",
    "### Licensing: Creative Commons Attribution\n",
    "\n"
   ]
  },
  {
   "cell_type": "markdown",
   "id": "5e833c61-6396-402c-98ce-a6a9241be007",
   "metadata": {},
   "source": [
    " <span style=\"font-size: 40px;\">Executive summary</span>"
   ]
  },
  {
   "cell_type": "markdown",
   "id": "75db27f4-ee83-4823-96c1-57d2a8f1b6bc",
   "metadata": {},
   "source": [
    "### PROJECT PROBLEM:\n",
    "\n",
    "Employee turnover, commonly referred to as \"employee churn,\" poses a substantial financial burden on companies. Replacing an employee entails significant costs, as evidenced by a study conducted by the Center for American Progress. According to their findings, companies typically expend approximately one-fifth of an employee's salary to secure a replacement, and this cost escalates significantly when replacing executives or high-earning personnel. In essence, the financial impact of employee turnover remains noteworthy for most employers.\n",
    "\n",
    "The expenses associated with employee replacement stem from various factors. The process involves considerable time and effort invested in interviewing and selecting a suitable candidate. Moreover, sign-on bonuses and other incentives further contribute to the overall cost. Additionally, the transition period for the new employee to adapt to their new role leads to a decline in productivity for several months, further exacerbating the financial implications."
   ]
  },
  {
   "cell_type": "markdown",
   "id": "63c7a368-5fb8-492c-ad26-bc5440693c40",
   "metadata": {},
   "source": [
    "### PROJECT DESCRIPTION:\n",
    "\n",
    "This machine learning classification  project objective is to produce an accurate ML  model that can identify key factors of employee churn at IBM. The project will use data from the IEEE Xplore Digital Library on IBM HR ANALYTICS EMPLOYEE ATTRITION & PERFORMANCE to explore the drivers of employee churn and to identify three employee features and likelyhood of churn. The project will be presented to head of /human Resources and IBM stakeholders, expound on featuren effecacy performance in our machine learning model and the impacts to IBM.\n"
   ]
  },
  {
   "cell_type": "markdown",
   "id": "54e679a6-fdb3-423e-80c8-80995610c372",
   "metadata": {},
   "source": [
    "### PROJECT GOAL: \n",
    "\n",
    "1. Identify Drivers of Attrition: Determine the features within the dataset that exhibit strong correlations with employee attrition.\n",
    "2. Build Predictive Model: Develop a high-performing model that can identify Attrition based on the selected features.\n",
    "3. Share Insights: Communicate the findings and model insights to IBM Human resources executives for further analysis and decision-making.\n"
   ]
  },
  {
   "cell_type": "markdown",
   "id": "793fdd1a-4fae-49fe-a30b-d767712b3221",
   "metadata": {},
   "source": [
    "### INITIAL QUESTIONS\n",
    "\n",
    "1. Is there a relationship between Age and employee Attrition?\n",
    "2. Is there a relationship between Eudcation and employee Attrition?\n",
    "3. Is there a relationship between Tenure (Years at Company(IBM)) and employee Attrition\n"
   ]
  },
  {
   "cell_type": "markdown",
   "id": "269b502c-cd9d-482f-ae22-b8b5f81f2220",
   "metadata": {
    "tags": []
   },
   "source": [
    "### Data Dictionary\n",
    "\n",
    "| Column Name   | Data Type | Description                                              | Possible Values                                      |\n",
    "|---------------|-----------|----------------------------------------------------------|------------------------------------------------------|\n",
    "| Age           | int64     | Represents the age of the employee.                      | Integer values                                       |\n",
    "| Tenure        | int64     | Represents the number of years an employee has worked at the company. Originally \"YearsAtCompany\". | Integer values                                       |\n",
    "| Yes_Attrition | int64     | Indicates whether an employee has left the company. 1 for 'Yes' and 0 for 'No'. Originally \"Attrition\". | 1 (Yes), 0 (No)                                      |\n",
    "| Education     | int64     | Represents the educational qualification of the employee. | 1 (High School), 2 (Some College), 3 (Bachelor's Degree), 4 (Masters Degree), 5 (Doctoral Degree) |\n",
    "\n",
    " **Detailed Column Descriptions:**\n"
   ]
  },
  {
   "cell_type": "markdown",
   "id": "63325c13-1084-44e7-8d7c-bb3f1e6d2fe1",
   "metadata": {},
   "source": [
    "The IBM employee attrition dataset is a mixed metric dataset that contains information about 1,470 IBM employees and 35 indivisual features and whether they have left the company (churn). The dataset can be used to explore the factors that contribute to employee attrition and to build predictive models that can be used to predict which employees are at risk of leaving the company.\n",
    "\n",
    "\n",
    "**The Target:** Yes_Attrition: Binary column indicating the presence (1) or absence (0) of Attrition, \n"
   ]
  },
  {
   "cell_type": "markdown",
   "id": "b0b98909-c7e7-445e-9228-de8da8d4e6cb",
   "metadata": {},
   "source": [
    "# ACQUIRE\n",
    "\n",
    "Data acquired from file path via (https://ieee-dataport.org/documents/ibm-hr-analytics-employee-attrition-performance)\n",
    "The data set has 35 columns and 1,470 rows\n",
    "Each row represents individual employee numerical data\n",
    "Each column is attributes of the employees\n",
    "\n",
    "\n",
    "### DATA TYPE SUMMARY\n",
    "- 26 integer data types originally now 3\n",
    "- 9 object data type originally now 1\n",
    "- 0 null values\n",
    "- no missing values\n"
   ]
  },
  {
   "cell_type": "code",
   "execution_count": 1,
   "id": "0c123bcb-ca4f-4dd9-a11d-eba3ef5e59a3",
   "metadata": {},
   "outputs": [],
   "source": [
    "# Import Libraries\n",
    "import pandas as pd\n",
    "import numpy as np\n",
    "import os\n",
    "import seaborn as sns\n",
    "import matplotlib.pyplot as plt\n",
    "import scipy.stats as stats\n",
    "import prepare as p\n",
    "import wrangle as w\n",
    "from scipy.stats import chi2_contingency\n",
    "\n",
    "from sklearn.model_selection import train_test_split\n",
    "from sklearn.linear_model import LogisticRegression\n",
    "from sklearn.metrics import accuracy_score, precision_score, recall_score\n",
    "from sklearn.tree import DecisionTreeClassifier, plot_tree\n",
    "from sklearn.metrics import confusion_matrix, accuracy_score, classification_report\n",
    "from IPython.display import display, display_html\n",
    "from sklearn.dummy import DummyClassifier\n",
    "from sklearn.preprocessing import StandardScaler\n",
    "from sklearn.preprocessing import LabelEncoder\n",
    "from sklearn.ensemble import RandomForestClassifier\n",
    "\n"
   ]
  },
  {
   "cell_type": "code",
   "execution_count": 2,
   "id": "b4c03312-4d32-46d3-b08c-e6faa8df1d6a",
   "metadata": {},
   "outputs": [],
   "source": [
    "# # Replace 'path/to/your/Data_Hr_Analytics_S3.csv' with the actual full file path to your dataset file\n",
    "# file_path = '/Users/miattas/codeup-data-science/Employee-Churn-Prediction/Data_Hr_Analytics_S3.csv'\n",
    "\n",
    "# Call the function to load the dataset\n",
    "HR_df = p.prep_HR_churn_data()\n"
   ]
  },
  {
   "cell_type": "code",
   "execution_count": 3,
   "id": "96aee005-690e-4e07-bc86-3e9abe00bede",
   "metadata": {},
   "outputs": [
    {
     "data": {
      "text/plain": [
       "0    1233\n",
       "1     237\n",
       "Name: Yes_Attrition, dtype: int64"
      ]
     },
     "execution_count": 3,
     "metadata": {},
     "output_type": "execute_result"
    }
   ],
   "source": [
    "HR_df['Yes_Attrition'].value_counts()"
   ]
  },
  {
   "cell_type": "code",
   "execution_count": 4,
   "id": "cf285b8d-40ee-4d24-8f16-5ce82d70c84c",
   "metadata": {},
   "outputs": [
    {
     "data": {
      "text/plain": [
       "3    572\n",
       "4    398\n",
       "2    282\n",
       "1    170\n",
       "5     48\n",
       "Name: Education, dtype: int64"
      ]
     },
     "execution_count": 4,
     "metadata": {},
     "output_type": "execute_result"
    }
   ],
   "source": [
    "HR_df['Education'].value_counts()"
   ]
  },
  {
   "cell_type": "code",
   "execution_count": 5,
   "id": "71cb9f41-f723-453e-8f03-27900927c385",
   "metadata": {},
   "outputs": [
    {
     "data": {
      "text/html": [
       "<div>\n",
       "<style scoped>\n",
       "    .dataframe tbody tr th:only-of-type {\n",
       "        vertical-align: middle;\n",
       "    }\n",
       "\n",
       "    .dataframe tbody tr th {\n",
       "        vertical-align: top;\n",
       "    }\n",
       "\n",
       "    .dataframe thead th {\n",
       "        text-align: right;\n",
       "    }\n",
       "</style>\n",
       "<table border=\"1\" class=\"dataframe\">\n",
       "  <thead>\n",
       "    <tr style=\"text-align: right;\">\n",
       "      <th></th>\n",
       "      <th>0</th>\n",
       "      <th>1</th>\n",
       "      <th>2</th>\n",
       "      <th>3</th>\n",
       "      <th>4</th>\n",
       "    </tr>\n",
       "  </thead>\n",
       "  <tbody>\n",
       "    <tr>\n",
       "      <th>Age</th>\n",
       "      <td>41</td>\n",
       "      <td>49</td>\n",
       "      <td>37</td>\n",
       "      <td>33</td>\n",
       "      <td>27</td>\n",
       "    </tr>\n",
       "    <tr>\n",
       "      <th>Yes_Attrition</th>\n",
       "      <td>1</td>\n",
       "      <td>0</td>\n",
       "      <td>1</td>\n",
       "      <td>0</td>\n",
       "      <td>0</td>\n",
       "    </tr>\n",
       "    <tr>\n",
       "      <th>Tenure</th>\n",
       "      <td>6</td>\n",
       "      <td>10</td>\n",
       "      <td>0</td>\n",
       "      <td>8</td>\n",
       "      <td>2</td>\n",
       "    </tr>\n",
       "    <tr>\n",
       "      <th>Education</th>\n",
       "      <td>2</td>\n",
       "      <td>1</td>\n",
       "      <td>2</td>\n",
       "      <td>4</td>\n",
       "      <td>1</td>\n",
       "    </tr>\n",
       "  </tbody>\n",
       "</table>\n",
       "</div>"
      ],
      "text/plain": [
       "                0   1   2   3   4\n",
       "Age            41  49  37  33  27\n",
       "Yes_Attrition   1   0   1   0   0\n",
       "Tenure          6  10   0   8   2\n",
       "Education       2   1   2   4   1"
      ]
     },
     "execution_count": 5,
     "metadata": {},
     "output_type": "execute_result"
    }
   ],
   "source": [
    "# To inspect the first few rows of the DataFrame, you can use the head functiotelco.head()\n",
    "HR_df.head().T\n",
    "\n",
    "   "
   ]
  },
  {
   "cell_type": "code",
   "execution_count": 6,
   "id": "082d0677-3382-49ec-abdf-83a41ba99185",
   "metadata": {},
   "outputs": [
    {
     "data": {
      "text/plain": [
       "433"
      ]
     },
     "execution_count": 6,
     "metadata": {},
     "output_type": "execute_result"
    }
   ],
   "source": [
    "# Check for total of duplicates in data set \n",
    "HR_df.duplicated().sum()"
   ]
  },
  {
   "cell_type": "markdown",
   "id": "880530a2-838b-4bd3-b9a7-8bcfc40d472a",
   "metadata": {},
   "source": [
    "No duplicates in dataset"
   ]
  },
  {
   "cell_type": "markdown",
   "id": "b2198955-9637-4aea-bd6d-34f464e792d2",
   "metadata": {},
   "source": [
    "### OBSERVE DATASET \"EXPLORATION\"?\n"
   ]
  },
  {
   "cell_type": "code",
   "execution_count": 7,
   "id": "6f2c25da-0a2b-41d9-8699-8875217f5ee4",
   "metadata": {},
   "outputs": [
    {
     "name": "stdout",
     "output_type": "stream",
     "text": [
      "<class 'pandas.core.frame.DataFrame'>\n",
      "Int64Index: 1470 entries, 0 to 1469\n",
      "Data columns (total 4 columns):\n",
      " #   Column         Non-Null Count  Dtype\n",
      "---  ------         --------------  -----\n",
      " 0   Age            1470 non-null   int64\n",
      " 1   Yes_Attrition  1470 non-null   int64\n",
      " 2   Tenure         1470 non-null   int64\n",
      " 3   Education      1470 non-null   int64\n",
      "dtypes: int64(4)\n",
      "memory usage: 57.4 KB\n"
     ]
    }
   ],
   "source": [
    "# column datatypes and missign values\n",
    "HR_df.info()\n"
   ]
  },
  {
   "cell_type": "markdown",
   "id": "181409e1-211a-4a6c-b02b-6e60b02c69e2",
   "metadata": {},
   "source": [
    "**Data contains no missing values**"
   ]
  },
  {
   "cell_type": "markdown",
   "id": "59cc1d53-e7b7-4522-8473-66877e4cb137",
   "metadata": {},
   "source": [
    "### OBSERVED NUMERICAL FEATURES\n"
   ]
  },
  {
   "cell_type": "code",
   "execution_count": 8,
   "id": "21fa48ff-d76b-45b0-8c37-6695171fc5d8",
   "metadata": {},
   "outputs": [
    {
     "data": {
      "text/plain": [
       "(1470, 4)"
      ]
     },
     "execution_count": 8,
     "metadata": {},
     "output_type": "execute_result"
    }
   ],
   "source": [
    "HR_df.shape"
   ]
  },
  {
   "cell_type": "code",
   "execution_count": 9,
   "id": "a61e06ee-d943-46ff-8f9b-b1ef2f57ed6f",
   "metadata": {},
   "outputs": [
    {
     "data": {
      "text/plain": [
       "Age              0\n",
       "Yes_Attrition    0\n",
       "Tenure           0\n",
       "Education        0\n",
       "dtype: int64"
      ]
     },
     "execution_count": 9,
     "metadata": {},
     "output_type": "execute_result"
    }
   ],
   "source": [
    "HR_df.isnull().sum()"
   ]
  },
  {
   "cell_type": "markdown",
   "id": "42c5ca0d-5347-4c20-bad2-60547c970897",
   "metadata": {},
   "source": [
    "# PREPARE\n",
    "\n",
    "### Data Cleaning: \n",
    "* Drop unnecessary axis\n",
    "* Rename\n",
    "* Find nulls\n",
    "* Drop nulls \n",
    "* Check preperation\n",
    "* The data set has 35 columns and 1,470 rows\n",
    "* Each row represents individual employee numerical data\n",
    "* Each column is attributes of the employees"
   ]
  },
  {
   "cell_type": "code",
   "execution_count": 11,
   "id": "9d6f57d8-a454-4fca-897c-a4aacac04749",
   "metadata": {},
   "outputs": [
    {
     "data": {
      "text/html": [
       "<div>\n",
       "<style scoped>\n",
       "    .dataframe tbody tr th:only-of-type {\n",
       "        vertical-align: middle;\n",
       "    }\n",
       "\n",
       "    .dataframe tbody tr th {\n",
       "        vertical-align: top;\n",
       "    }\n",
       "\n",
       "    .dataframe thead th {\n",
       "        text-align: right;\n",
       "    }\n",
       "</style>\n",
       "<table border=\"1\" class=\"dataframe\">\n",
       "  <thead>\n",
       "    <tr style=\"text-align: right;\">\n",
       "      <th></th>\n",
       "      <th>Age</th>\n",
       "      <th>Yes_Attrition</th>\n",
       "      <th>Tenure</th>\n",
       "      <th>Education</th>\n",
       "    </tr>\n",
       "  </thead>\n",
       "  <tbody>\n",
       "    <tr>\n",
       "      <th>0</th>\n",
       "      <td>41</td>\n",
       "      <td>1</td>\n",
       "      <td>6</td>\n",
       "      <td>2</td>\n",
       "    </tr>\n",
       "    <tr>\n",
       "      <th>1</th>\n",
       "      <td>49</td>\n",
       "      <td>0</td>\n",
       "      <td>10</td>\n",
       "      <td>1</td>\n",
       "    </tr>\n",
       "    <tr>\n",
       "      <th>2</th>\n",
       "      <td>37</td>\n",
       "      <td>1</td>\n",
       "      <td>0</td>\n",
       "      <td>2</td>\n",
       "    </tr>\n",
       "    <tr>\n",
       "      <th>3</th>\n",
       "      <td>33</td>\n",
       "      <td>0</td>\n",
       "      <td>8</td>\n",
       "      <td>4</td>\n",
       "    </tr>\n",
       "    <tr>\n",
       "      <th>4</th>\n",
       "      <td>27</td>\n",
       "      <td>0</td>\n",
       "      <td>2</td>\n",
       "      <td>1</td>\n",
       "    </tr>\n",
       "  </tbody>\n",
       "</table>\n",
       "</div>"
      ],
      "text/plain": [
       "   Age  Yes_Attrition  Tenure  Education\n",
       "0   41              1       6          2\n",
       "1   49              0      10          1\n",
       "2   37              1       0          2\n",
       "3   33              0       8          4\n",
       "4   27              0       2          1"
      ]
     },
     "execution_count": 11,
     "metadata": {},
     "output_type": "execute_result"
    }
   ],
   "source": [
    "selected_df = HR_df\n",
    "selected_df.head() \n"
   ]
  },
  {
   "cell_type": "code",
   "execution_count": 12,
   "id": "4a2a9c71-3a97-4544-bb56-61db545f522a",
   "metadata": {},
   "outputs": [
    {
     "name": "stdout",
     "output_type": "stream",
     "text": [
      "<class 'pandas.core.frame.DataFrame'>\n",
      "Int64Index: 1470 entries, 0 to 1469\n",
      "Data columns (total 4 columns):\n",
      " #   Column         Non-Null Count  Dtype\n",
      "---  ------         --------------  -----\n",
      " 0   Age            1470 non-null   int64\n",
      " 1   Yes_Attrition  1470 non-null   int64\n",
      " 2   Tenure         1470 non-null   int64\n",
      " 3   Education      1470 non-null   int64\n",
      "dtypes: int64(4)\n",
      "memory usage: 57.4 KB\n"
     ]
    }
   ],
   "source": [
    "selected_df.info()"
   ]
  },
  {
   "cell_type": "code",
   "execution_count": 13,
   "id": "ed7a42c8-ef68-40e2-8388-74c902d74886",
   "metadata": {},
   "outputs": [
    {
     "data": {
      "text/plain": [
       "433"
      ]
     },
     "execution_count": 13,
     "metadata": {},
     "output_type": "execute_result"
    }
   ],
   "source": [
    "# small dataframe based on company demographics getting rid of duplicates will reduce demographic data\n",
    "selected_df.duplicated().sum()"
   ]
  },
  {
   "cell_type": "markdown",
   "id": "0e2d44d6-5722-4a26-b0f4-39eb3a8c6cd6",
   "metadata": {},
   "source": [
    "In the near feauture we can expand the data set by adding features and removing duplicated but for this project we will so that our distrivutions aren;t negatively impacted."
   ]
  },
  {
   "cell_type": "code",
   "execution_count": 14,
   "id": "f78fb8d3-336d-4b65-ac09-2ed4055a7082",
   "metadata": {},
   "outputs": [
    {
     "data": {
      "text/plain": [
       "3    572\n",
       "4    398\n",
       "2    282\n",
       "1    170\n",
       "5     48\n",
       "Name: Education, dtype: int64"
      ]
     },
     "execution_count": 14,
     "metadata": {},
     "output_type": "execute_result"
    }
   ],
   "source": [
    "selected_df['Education'].value_counts()"
   ]
  },
  {
   "cell_type": "code",
   "execution_count": 15,
   "id": "c8e3e60c-52b9-4772-bd11-5fb6c4762d90",
   "metadata": {},
   "outputs": [
    {
     "data": {
      "text/plain": [
       "0    1233\n",
       "1     237\n",
       "Name: Yes_Attrition, dtype: int64"
      ]
     },
     "execution_count": 15,
     "metadata": {},
     "output_type": "execute_result"
    }
   ],
   "source": [
    "selected_df['Yes_Attrition'].value_counts()"
   ]
  },
  {
   "cell_type": "code",
   "execution_count": 16,
   "id": "619cb2fa-038d-41ac-b437-704e5904de6e",
   "metadata": {},
   "outputs": [
    {
     "data": {
      "text/plain": [
       "(1470, 4)"
      ]
     },
     "execution_count": 16,
     "metadata": {},
     "output_type": "execute_result"
    }
   ],
   "source": [
    "selected_df.shape"
   ]
  },
  {
   "cell_type": "markdown",
   "id": "f523043d-6ad0-4e62-a8f0-4264d2987dd4",
   "metadata": {},
   "source": [
    "**Converted variable education and target  into numerical representations**\n"
   ]
  },
  {
   "cell_type": "code",
   "execution_count": 17,
   "id": "2f6c4ae5-9b97-4b79-9d0e-109a99ec9203",
   "metadata": {},
   "outputs": [
    {
     "data": {
      "text/html": [
       "<div>\n",
       "<style scoped>\n",
       "    .dataframe tbody tr th:only-of-type {\n",
       "        vertical-align: middle;\n",
       "    }\n",
       "\n",
       "    .dataframe tbody tr th {\n",
       "        vertical-align: top;\n",
       "    }\n",
       "\n",
       "    .dataframe thead th {\n",
       "        text-align: right;\n",
       "    }\n",
       "</style>\n",
       "<table border=\"1\" class=\"dataframe\">\n",
       "  <thead>\n",
       "    <tr style=\"text-align: right;\">\n",
       "      <th></th>\n",
       "      <th>Age</th>\n",
       "      <th>Yes_Attrition</th>\n",
       "      <th>Tenure</th>\n",
       "      <th>Education</th>\n",
       "    </tr>\n",
       "  </thead>\n",
       "  <tbody>\n",
       "    <tr>\n",
       "      <th>621</th>\n",
       "      <td>36</td>\n",
       "      <td>0</td>\n",
       "      <td>18</td>\n",
       "      <td>2</td>\n",
       "    </tr>\n",
       "    <tr>\n",
       "      <th>850</th>\n",
       "      <td>32</td>\n",
       "      <td>0</td>\n",
       "      <td>1</td>\n",
       "      <td>1</td>\n",
       "    </tr>\n",
       "    <tr>\n",
       "      <th>578</th>\n",
       "      <td>38</td>\n",
       "      <td>0</td>\n",
       "      <td>15</td>\n",
       "      <td>4</td>\n",
       "    </tr>\n",
       "    <tr>\n",
       "      <th>912</th>\n",
       "      <td>26</td>\n",
       "      <td>0</td>\n",
       "      <td>8</td>\n",
       "      <td>2</td>\n",
       "    </tr>\n",
       "    <tr>\n",
       "      <th>49</th>\n",
       "      <td>35</td>\n",
       "      <td>0</td>\n",
       "      <td>1</td>\n",
       "      <td>1</td>\n",
       "    </tr>\n",
       "  </tbody>\n",
       "</table>\n",
       "</div>"
      ],
      "text/plain": [
       "     Age  Yes_Attrition  Tenure  Education\n",
       "621   36              0      18          2\n",
       "850   32              0       1          1\n",
       "578   38              0      15          4\n",
       "912   26              0       8          2\n",
       "49    35              0       1          1"
      ]
     },
     "execution_count": 17,
     "metadata": {},
     "output_type": "execute_result"
    }
   ],
   "source": [
    "selected_df.sample(5)"
   ]
  },
  {
   "cell_type": "code",
   "execution_count": 18,
   "id": "76e9649c-82e1-4873-a25b-48d31ec4c1de",
   "metadata": {},
   "outputs": [
    {
     "name": "stdout",
     "output_type": "stream",
     "text": [
      "<class 'pandas.core.frame.DataFrame'>\n",
      "Int64Index: 1470 entries, 0 to 1469\n",
      "Data columns (total 4 columns):\n",
      " #   Column         Non-Null Count  Dtype\n",
      "---  ------         --------------  -----\n",
      " 0   Age            1470 non-null   int64\n",
      " 1   Yes_Attrition  1470 non-null   int64\n",
      " 2   Tenure         1470 non-null   int64\n",
      " 3   Education      1470 non-null   int64\n",
      "dtypes: int64(4)\n",
      "memory usage: 57.4 KB\n"
     ]
    }
   ],
   "source": [
    "selected_df.info()"
   ]
  },
  {
   "cell_type": "code",
   "execution_count": 19,
   "id": "ed0c4ef6-2854-4ee1-bd6b-8d7c0c4d5f9b",
   "metadata": {},
   "outputs": [
    {
     "data": {
      "text/html": [
       "<div>\n",
       "<style scoped>\n",
       "    .dataframe tbody tr th:only-of-type {\n",
       "        vertical-align: middle;\n",
       "    }\n",
       "\n",
       "    .dataframe tbody tr th {\n",
       "        vertical-align: top;\n",
       "    }\n",
       "\n",
       "    .dataframe thead th {\n",
       "        text-align: right;\n",
       "    }\n",
       "</style>\n",
       "<table border=\"1\" class=\"dataframe\">\n",
       "  <thead>\n",
       "    <tr style=\"text-align: right;\">\n",
       "      <th></th>\n",
       "      <th>0</th>\n",
       "      <th>1</th>\n",
       "      <th>2</th>\n",
       "      <th>3</th>\n",
       "      <th>4</th>\n",
       "    </tr>\n",
       "  </thead>\n",
       "  <tbody>\n",
       "    <tr>\n",
       "      <th>Age</th>\n",
       "      <td>41</td>\n",
       "      <td>49</td>\n",
       "      <td>37</td>\n",
       "      <td>33</td>\n",
       "      <td>27</td>\n",
       "    </tr>\n",
       "    <tr>\n",
       "      <th>Yes_Attrition</th>\n",
       "      <td>1</td>\n",
       "      <td>0</td>\n",
       "      <td>1</td>\n",
       "      <td>0</td>\n",
       "      <td>0</td>\n",
       "    </tr>\n",
       "    <tr>\n",
       "      <th>Tenure</th>\n",
       "      <td>6</td>\n",
       "      <td>10</td>\n",
       "      <td>0</td>\n",
       "      <td>8</td>\n",
       "      <td>2</td>\n",
       "    </tr>\n",
       "    <tr>\n",
       "      <th>Education</th>\n",
       "      <td>2</td>\n",
       "      <td>1</td>\n",
       "      <td>2</td>\n",
       "      <td>4</td>\n",
       "      <td>1</td>\n",
       "    </tr>\n",
       "  </tbody>\n",
       "</table>\n",
       "</div>"
      ],
      "text/plain": [
       "                0   1   2   3   4\n",
       "Age            41  49  37  33  27\n",
       "Yes_Attrition   1   0   1   0   0\n",
       "Tenure          6  10   0   8   2\n",
       "Education       2   1   2   4   1"
      ]
     },
     "execution_count": 19,
     "metadata": {},
     "output_type": "execute_result"
    }
   ],
   "source": [
    "selected_df.head().T\n"
   ]
  },
  {
   "cell_type": "markdown",
   "id": "c73d191f-e986-45f4-b1d9-cb103768b4a2",
   "metadata": {},
   "source": [
    "### TRAIN SPLIT"
   ]
  },
  {
   "cell_type": "code",
   "execution_count": 22,
   "id": "624b218a-97e9-456b-8480-8e56c691e97b",
   "metadata": {},
   "outputs": [
    {
     "name": "stdout",
     "output_type": "stream",
     "text": [
      "Train shape: (882, 4)\n",
      "Validate shape: (294, 4)\n",
      "Test shape: (294, 4)\n"
     ]
    }
   ],
   "source": [
    "# Split the data into train, validate, and test sets\n",
    "selected_train,selected_validate, selected_test = p.split_selected(selected_df)\n"
   ]
  },
  {
   "cell_type": "markdown",
   "id": "b7520659-5639-4a40-b7d0-47e8d43ffd0f",
   "metadata": {},
   "source": [
    "# EXPLORE"
   ]
  },
  {
   "cell_type": "markdown",
   "id": "b617752b-93c4-4141-9d8a-b40829c9a779",
   "metadata": {},
   "source": [
    "- Featurs moving forward are Age, Education and Tenure\n",
    "- Exploration we will provide answers on the relationships between different features and employee Attrition.\n",
    "\n"
   ]
  },
  {
   "cell_type": "code",
   "execution_count": 23,
   "id": "864b0c43-ba1b-4f57-b27c-ca587ba45ba2",
   "metadata": {},
   "outputs": [
    {
     "data": {
      "image/png": "[encoded data removed]",
      "text/plain": [
       "<Figure size 1000x1000 with 4 Axes>"
      ]
     },
     "metadata": {},
     "output_type": "display_data"
    }
   ],
   "source": [
    "# Visual of dataset after cleaning and split \n",
    "\n",
    "selected_train.hist(figsize=(10,10))\n",
    "plt.show()"
   ]
  },
  {
   "cell_type": "code",
   "execution_count": 24,
   "id": "cd8bfb0f-96f7-4b53-ab2c-13aca27e8cb2",
   "metadata": {},
   "outputs": [
    {
     "data": {
      "image/png": "[encoded data removed]",
      "text/plain": [
       "<Figure size 800x600 with 1 Axes>"
      ]
     },
     "metadata": {},
     "output_type": "display_data"
    }
   ],
   "source": [
    "# Visualize the data\n",
    "\n",
    "# Example: Histogram of 'Age'\n",
    "plt.figure(figsize=(8, 6))\n",
    "sns.histplot(selected_train['Age'], kde=True)\n",
    "plt.title('Age Distribution')\n",
    "plt.xlabel('Age')\n",
    "plt.ylabel('Count')\n",
    "plt.show()"
   ]
  },
  {
   "cell_type": "markdown",
   "id": "437fd3b3-7602-4b00-a813-3287857eb796",
   "metadata": {},
   "source": [
    "## Age Distribution\n",
    "- The age distribution shows that the majority of employees are in their 20s and 30s. This is likely because these are the ages when people are just starting their careers and are more likely to be employed. The age distribution also shows that there is a smaller number of employees in their 40s and 50s, and a very small number of employees in their 60s. This is likely because people in their 40s and 50s are more likely to be in more senior positions, and people in their 60s are more likely to be retired.\n",
    "- The age distribution can be helpful for understanding the demographics of the workforce and for identifying potential areas of concern. For example, if the company is seeing a lot of employee attrition in a particular age group, this could be a sign that there is a problem with that age group.\n",
    "- The image you sent shows a bar graph of the age distribution of the employees. The graph shows that the majority of employees are in their 20s and 30s, with a smaller number of employees in their 40s and 50s, and a very small number of employees in their 60s.\n",
    "- The graph also shows that there is a peak in the number of employees in their 20s, and then a decline in the number of employees as they get older. This is likely due to the fact that people in their 20s are just starting their careers and are more likely to be employed, while people in their 50s and 60s are more likely to be retired or to be in more senior positions.\n",
    "- Overall, the age distribution shows that the majority of employees are in their 20s and 30s, with a smaller number of employees in their 40s and 50s, and a very small number of employees in their 60s."
   ]
  },
  {
   "cell_type": "code",
   "execution_count": 25,
   "id": "1f5ea017-c926-418e-b8e4-53187391c111",
   "metadata": {},
   "outputs": [
    {
     "data": {
      "image/png": "[encoded data removed]",
      "text/plain": [
       "<Figure size 1000x600 with 1 Axes>"
      ]
     },
     "metadata": {},
     "output_type": "display_data"
    }
   ],
   "source": [
    "#  Explore the Age vs Attrition\n",
    "\n",
    "# Example: Bar plot of 'Age' vs. 'Attrition'\n",
    "plt.figure(figsize=(10, 6))\n",
    "sns.countplot(data=selected_train, x='Age', hue='Yes_Attrition')\n",
    "plt.title('Does Age have a relationship with employee Attrition?')\n",
    "plt.xlabel('Age')\n",
    "plt.ylabel('Count')\n",
    "plt.show()"
   ]
  },
  {
   "cell_type": "markdown",
   "id": "4c33c6a2-1d93-4f73-8e11-fe3d156fa202",
   "metadata": {},
   "source": [
    "## Exploring and Visualization on Age findings\n",
    "\n",
    "- The graph shows the relationship between employee attrition and age. \n",
    "- The graph shows that employee attrition is highest for employees in their 20s and 30s, and then declines as employees get older. \n",
    "- 15% of employees in their 20s have left the company, while only 5% of employees in their 50s have left the company.\n",
    "- This suggests that age may be a factor in employee attrition. \n",
    "- Employees in their 20s and 30s may be more likely to leave the company because they are still exploring their career options and they may be more likely to be offered new opportunities at other companies.\n",
    "- However, it is important to note that this is just one factor that may contribute to employee attrition. "
   ]
  },
  {
   "cell_type": "code",
   "execution_count": 26,
   "id": "709ab585-dbf9-4209-abd8-5cd45ebe67c0",
   "metadata": {
    "tags": []
   },
   "outputs": [
    {
     "data": {
      "image/png": "[encoded data removed]",
      "text/plain": [
       "<Figure size 1000x800 with 1 Axes>"
      ]
     },
     "metadata": {},
     "output_type": "display_data"
    }
   ],
   "source": [
    "# Example: Bar plot of 'Education' vs. 'Attrition''\n",
    "\n",
    "plt.figure(figsize=(10, 8))\n",
    "sns.countplot(data=selected_train, x='Education', hue='Yes_Attrition')\n",
    "plt.title('Does Education have a relationship with employee Attrition?')\n",
    "plt.xlabel('Education')\n",
    "plt.ylabel('Count')\n",
    "plt.show()"
   ]
  },
  {
   "cell_type": "markdown",
   "id": "950c7f70-45fb-4904-b05c-760f4d70e075",
   "metadata": {},
   "source": [
    "## Exploring and Visualization on Education \n"
   ]
  },
  {
   "cell_type": "markdown",
   "id": "420313fe-5b46-4e86-ab9a-89c917626c3f",
   "metadata": {},
   "source": [
    "- The chart reveals that there is a significant relationship between education level and employee attrition. The higher the education level, the higher the attrition rate. For example, the attrition rate for employees with a doctoral degree is 25%, while the attrition rate for employees with a high school diploma is only 10%.\n",
    "\n",
    "- This suggests that there may be some factors associated with higher education that make employees more likely to leave their jobs. These factors could include higher expectations, higher salaries, or more opportunities for advancement.\n",
    "\n",
    "- It is important to note that this is just one study, and more research is needed to confirm these findings. However, the results of this study suggest that education level is an important factor to consider when trying to understand employee attrition.\n",
    "\n",
    "### Here are some additional thoughts on the chart:\n",
    "\n",
    "- The difference in attrition rates between education levels is relatively small. For example, the attrition rate for employees with a bachelor's degree is only 5% higher than the attrition rate for employees with a high school diploma.\n",
    "- The attrition rate for employees with a doctoral degree is the highest, but it is still relatively low. This suggests that even employees with the highest levels of education are not immune to attrition.\n",
    "- The attrition rate for employees with some college is slightly higher than the attrition rate for employees with a high school diploma. This suggests that some college may not be enough to prepare employees for the demands of the workplace.\n",
    "- Overall, the chart suggests that education level is an important factor to consider when trying to understand employee attrition. However, it is important to note that there are other factors that may also contribute to attrition, such as job satisfaction, work-life balance, and compensation."
   ]
  },
  {
   "cell_type": "code",
   "execution_count": 27,
   "id": "277577fa-fadc-4659-b07a-5d39ec8d58f7",
   "metadata": {},
   "outputs": [
    {
     "data": {
      "image/png": "[encoded data removed]",
      "text/plain": [
       "<Figure size 800x600 with 1 Axes>"
      ]
     },
     "metadata": {},
     "output_type": "display_data"
    }
   ],
   "source": [
    "plt.figure(figsize=(8, 6))\n",
    "sns.kdeplot(data=selected_df, x='Tenure', hue='Yes_Attrition', fill=True)\n",
    "plt.title('Does Tenure have a relationship with employee Attrition?')\n",
    "plt.xlabel('Tenure')\n",
    "plt.ylabel('Density')\n",
    "plt.show()"
   ]
  },
  {
   "cell_type": "markdown",
   "id": "8367c159-fc1a-4588-b03b-3f6cd3295be1",
   "metadata": {},
   "source": [
    "## Exploring and Visualization on Tenure\n",
    "\n",
    "- The graph shows that employee attrition is highest for employees with less tenure. For example, 15% of employees with less than 1 year of tenure have left the company, while only 5% of employees with more than 10 years of tenure have left the company.\n",
    "\n",
    "- This suggests that tenure may be a factor in employee attrition. Employees with less tenure may be more likely to leave the company because they are still exploring their career options and they may be more likely to be offered new opportunities at other companies.\n",
    "\n",
    "- However, it is important to note that this is just one factor that may contribute to employee attrition. Other factors, such as salary, benefits, and job satisfaction, may also play a role.\n",
    "- The graph also shows that there is a small peak in employee attrition for employees with 10-15 years of tenure. This may be due to the fact that employees with 10-15 years of tenure may be more likely to be looking for new challenges or to be offered new opportunities at other companies.\n",
    "\n",
    "- Overall, the graph shows that employee attrition is highest for employees with less tenure, and then declines as employees gain more experience. However, there is a small peak in employee attrition for employees with 10-15 years of tenure.\n"
   ]
  },
  {
   "cell_type": "markdown",
   "id": "75bd177b-10a3-427e-9c29-cf0b165afddf",
   "metadata": {},
   "source": [
    "## Feature will be tested and modeled against Attrition"
   ]
  },
  {
   "cell_type": "markdown",
   "id": "5f6f9a0b-1e98-41b5-b539-1786a5d48022",
   "metadata": {},
   "source": [
    "## Statistical Testing \n",
    "\n",
    "#### Age Hypothesis:  \n",
    "\n",
    "- alpha = .05\n",
    "- **$H_{0}$**: Age  is independent of employee Attrition\n",
    "- **$H_{a}$**: Age is dependent on employee Attrition\n",
    "\n"
   ]
  },
  {
   "cell_type": "code",
   "execution_count": 28,
   "id": "e2ec5324-eae3-4ffb-9f09-61a1234b8e81",
   "metadata": {},
   "outputs": [
    {
     "data": {
      "text/html": [
       "<div>\n",
       "<style scoped>\n",
       "    .dataframe tbody tr th:only-of-type {\n",
       "        vertical-align: middle;\n",
       "    }\n",
       "\n",
       "    .dataframe tbody tr th {\n",
       "        vertical-align: top;\n",
       "    }\n",
       "\n",
       "    .dataframe thead th {\n",
       "        text-align: right;\n",
       "    }\n",
       "</style>\n",
       "<table border=\"1\" class=\"dataframe\">\n",
       "  <thead>\n",
       "    <tr style=\"text-align: right;\">\n",
       "      <th>Yes_Attrition</th>\n",
       "      <th>0</th>\n",
       "      <th>1</th>\n",
       "    </tr>\n",
       "    <tr>\n",
       "      <th>Age</th>\n",
       "      <th></th>\n",
       "      <th></th>\n",
       "    </tr>\n",
       "  </thead>\n",
       "  <tbody>\n",
       "    <tr>\n",
       "      <th>41</th>\n",
       "      <td>22</td>\n",
       "      <td>3</td>\n",
       "    </tr>\n",
       "    <tr>\n",
       "      <th>49</th>\n",
       "      <td>14</td>\n",
       "      <td>1</td>\n",
       "    </tr>\n",
       "    <tr>\n",
       "      <th>20</th>\n",
       "      <td>1</td>\n",
       "      <td>4</td>\n",
       "    </tr>\n",
       "  </tbody>\n",
       "</table>\n",
       "</div>"
      ],
      "text/plain": [
       "Yes_Attrition   0  1\n",
       "Age                 \n",
       "41             22  3\n",
       "49             14  1\n",
       "20              1  4"
      ]
     },
     "execution_count": 28,
     "metadata": {},
     "output_type": "execute_result"
    }
   ],
   "source": [
    "#Set alpha observe frequency's\n",
    "alpha = 0.05\n",
    "Age_observed = pd.crosstab(selected_train.Age, selected_train.Yes_Attrition)\n",
    "Age_observed.sample(3)"
   ]
  },
  {
   "cell_type": "code",
   "execution_count": 66,
   "id": "90bb4325-a432-49a4-aaa1-c027785525b5",
   "metadata": {},
   "outputs": [],
   "source": [
    "# Example contingency table \n",
    "Age_observed1 = np.array([[41, 22, 3],\n",
    "                         [49, 14, 1],\n",
    "                         [20, 1, 4]])\n"
   ]
  },
  {
   "cell_type": "code",
   "execution_count": 30,
   "id": "579e79d1-0e9e-4747-951d-0f989570363f",
   "metadata": {},
   "outputs": [],
   "source": [
    "#Example Contingecy table\n",
    "chi2, p, dof, expected = chi2_contingency(Age_observed)"
   ]
  },
  {
   "cell_type": "code",
   "execution_count": 31,
   "id": "f3db116b-aff5-4901-9c34-4923d55a9488",
   "metadata": {},
   "outputs": [
    {
     "name": "stdout",
     "output_type": "stream",
     "text": [
      "Chi-square statistic: 99.05771779592538\n",
      "p-value: 1.6467094446540852e-06\n",
      "Degrees of freedom: 42\n",
      "Expected frequencies: [[2.50680272 0.49319728]\n",
      " [4.17800454 0.82199546]\n",
      " [4.17800454 0.82199546]\n",
      " [6.68480726 1.31519274]\n",
      " [8.35600907 1.64399093]]\n"
     ]
    }
   ],
   "source": [
    "# Print chi-square statistic, p-value, degrees of freedom, and expected frequencies\n",
    "print(\"Chi-square statistic:\", chi2)\n",
    "print(\"p-value:\", p)\n",
    "print(\"Degrees of freedom:\", dof)\n",
    "print(\"Expected frequencies:\", expected[:5])\n",
    "\n"
   ]
  },
  {
   "cell_type": "code",
   "execution_count": 67,
   "id": "e9ed79b2-0783-4eaa-8ddb-bc23063d2ba6",
   "metadata": {},
   "outputs": [
    {
     "data": {
      "image/png": "[encoded data removed]",
      "text/plain": [
       "<Figure size 640x480 with 2 Axes>"
      ]
     },
     "metadata": {},
     "output_type": "display_data"
    }
   ],
   "source": [
    "# Plot the observed frequencies\n",
    "fig, ax = plt.subplots()\n",
    "cax = ax.matshow(Age_observed1, cmap='RdYlBu')\n",
    "fig.colorbar(cax)\n",
    "\n",
    "# Add text to each cell\n",
    "for i in range(Age_observed1.shape[0]):\n",
    "    for j in range(Age_observed1.shape[1]):\n",
    "        ax.text(j, i, Age_observed1[i, j], va='center', ha='center')\n",
    "\n",
    "# Set x and y axis labels\n",
    "plt.xlabel('Column')\n",
    "plt.ylabel('Row')\n",
    "\n",
    "# Set plot title\n",
    "plt.title('Observed Frequencies')\n",
    "\n",
    "# Show the plot\n",
    "plt.show()\n"
   ]
  },
  {
   "cell_type": "code",
   "execution_count": 33,
   "id": "538ab93b-293a-478e-ae15-d07d6211e9df",
   "metadata": {},
   "outputs": [
    {
     "name": "stdout",
     "output_type": "stream",
     "text": [
      "The p-value is less than the alpha: True\n",
      "Outcome: We reject the null\n"
     ]
    }
   ],
   "source": [
    "print(f'The p-value is less than the alpha: {p < alpha}')\n",
    "\n",
    "if p < alpha:\n",
    "    print('Outcome: We reject the null')\n",
    "else:\n",
    "    print(\"Outcome: We fail to reject the null\")\n",
    "    "
   ]
  },
  {
   "cell_type": "markdown",
   "id": "7fcbbc93-8777-475c-8548-d8379274be80",
   "metadata": {},
   "source": [
    "####  Education Hypothesis \n",
    "\n",
    "- alpha = .05\n",
    "- **$H_{0}$**: Education is independent of employee  Attrition\n",
    "- **$H_{a}$**: Education is dependent on employee  Attrition\n"
   ]
  },
  {
   "cell_type": "code",
   "execution_count": 34,
   "id": "29808f9c-0a7a-4514-93fb-86e4e813fd6f",
   "metadata": {},
   "outputs": [
    {
     "data": {
      "text/html": [
       "<div>\n",
       "<style scoped>\n",
       "    .dataframe tbody tr th:only-of-type {\n",
       "        vertical-align: middle;\n",
       "    }\n",
       "\n",
       "    .dataframe tbody tr th {\n",
       "        vertical-align: top;\n",
       "    }\n",
       "\n",
       "    .dataframe thead th {\n",
       "        text-align: right;\n",
       "    }\n",
       "</style>\n",
       "<table border=\"1\" class=\"dataframe\">\n",
       "  <thead>\n",
       "    <tr style=\"text-align: right;\">\n",
       "      <th>Yes_Attrition</th>\n",
       "      <th>0</th>\n",
       "      <th>1</th>\n",
       "    </tr>\n",
       "    <tr>\n",
       "      <th>Education</th>\n",
       "      <th></th>\n",
       "      <th></th>\n",
       "    </tr>\n",
       "  </thead>\n",
       "  <tbody>\n",
       "    <tr>\n",
       "      <th>3</th>\n",
       "      <td>276</td>\n",
       "      <td>61</td>\n",
       "    </tr>\n",
       "    <tr>\n",
       "      <th>2</th>\n",
       "      <td>146</td>\n",
       "      <td>29</td>\n",
       "    </tr>\n",
       "    <tr>\n",
       "      <th>4</th>\n",
       "      <td>209</td>\n",
       "      <td>37</td>\n",
       "    </tr>\n",
       "  </tbody>\n",
       "</table>\n",
       "</div>"
      ],
      "text/plain": [
       "Yes_Attrition    0   1\n",
       "Education             \n",
       "3              276  61\n",
       "2              146  29\n",
       "4              209  37"
      ]
     },
     "execution_count": 34,
     "metadata": {},
     "output_type": "execute_result"
    }
   ],
   "source": [
    "#Set alpha observe frequency's\n",
    "\n",
    "alpha = 0.05\n",
    "Education_observed = pd.crosstab(selected_train.Education, selected_train.Yes_Attrition)\n",
    "Education_observed.sample(3)"
   ]
  },
  {
   "cell_type": "code",
   "execution_count": 64,
   "id": "badc9d21-dc1f-4237-b615-af1dcca423c8",
   "metadata": {},
   "outputs": [],
   "source": [
    "# Example contingency table \n",
    "Education_observed1 = np.array([[3, 276, 61],\n",
    "                              [2, 146, 29],\n",
    "                              [4, 209, 37]])\n"
   ]
  },
  {
   "cell_type": "code",
   "execution_count": 36,
   "id": "fabc831a-c541-4c1b-abdc-ba1721f46949",
   "metadata": {},
   "outputs": [],
   "source": [
    "chi2, p, dof, expected = chi2_contingency(Education_observed)\n"
   ]
  },
  {
   "cell_type": "code",
   "execution_count": 37,
   "id": "acae18e2-7b13-4563-92c8-25c9bd460329",
   "metadata": {},
   "outputs": [
    {
     "name": "stdout",
     "output_type": "stream",
     "text": [
      "Chi-square statistic: 2.331537687546925\n",
      "p-value: 0.6750331884691478\n",
      "Degrees of freedom: 4\n",
      "Expected frequencies: [[ 82.7244898   16.2755102 ]\n",
      " [146.23015873  28.76984127]\n",
      " [281.59750567  55.40249433]\n",
      " [205.55782313  40.44217687]\n",
      " [ 20.89002268   4.10997732]]\n"
     ]
    }
   ],
   "source": [
    "# Print chi-square statistic, p-value, degrees of freedom, and expected frequencies\n",
    "print(\"Chi-square statistic:\", chi2)\n",
    "print(\"p-value:\", p)\n",
    "print(\"Degrees of freedom:\", dof)\n",
    "print(\"Expected frequencies:\", expected)"
   ]
  },
  {
   "cell_type": "code",
   "execution_count": 65,
   "id": "7f2ef09c-021f-49f5-9b50-580b9c5ea7fc",
   "metadata": {},
   "outputs": [
    {
     "data": {
      "image/png": "[encoded data removed]",
      "text/plain": [
       "<Figure size 640x480 with 2 Axes>"
      ]
     },
     "metadata": {},
     "output_type": "display_data"
    }
   ],
   "source": [
    "# Plot the observed frequencies\n",
    "fig, ax = plt.subplots()\n",
    "cax = ax.matshow(Education_observed1, cmap='RdYlBu')\n",
    "fig.colorbar(cax)\n",
    "\n",
    "# Add text to each cell\n",
    "for i in range(Education_observed1.shape[0]):\n",
    "    for j in range(Education_observed1.shape[1]):\n",
    "        ax.text(j, i, Education_observed1[i, j], va='center', ha='center')\n",
    "\n",
    "# Set x and y axis labels\n",
    "plt.xlabel('Column')\n",
    "plt.ylabel('Row')\n",
    "\n",
    "# Set plot title\n",
    "plt.title('Observed Frequencies')\n",
    "\n",
    "# Show the plot\n",
    "plt.show()\n"
   ]
  },
  {
   "cell_type": "code",
   "execution_count": 39,
   "id": "963f7e6c-65e0-41cd-b02a-92065fd8fef7",
   "metadata": {},
   "outputs": [
    {
     "name": "stdout",
     "output_type": "stream",
     "text": [
      "The p-value is less than the alpha: False\n",
      "Outcome: We fail to reject the null\n"
     ]
    }
   ],
   "source": [
    "print(f'The p-value is less than the alpha: {p < alpha}')\n",
    "\n",
    "if p < alpha:\n",
    "    print('Outcome: We reject the null')\n",
    "else:\n",
    "    print(\"Outcome: We fail to reject the null\")\n",
    "    "
   ]
  },
  {
   "cell_type": "markdown",
   "id": "0ff914f2-fadf-4bd8-bcb1-94737e5aaf76",
   "metadata": {},
   "source": [
    "#### Tenure Hypothesis\n",
    "\n",
    "- alpha = .05\n",
    "- **$H_{0}$**: Tenure  is independent of employee  Attrition\n",
    "- **$H_{a}$**: Tenure  is dependent on employee  Attrition\n"
   ]
  },
  {
   "cell_type": "code",
   "execution_count": 40,
   "id": "47797f05-6301-4a4d-982d-74cda2c97e18",
   "metadata": {},
   "outputs": [
    {
     "data": {
      "text/html": [
       "<div>\n",
       "<style scoped>\n",
       "    .dataframe tbody tr th:only-of-type {\n",
       "        vertical-align: middle;\n",
       "    }\n",
       "\n",
       "    .dataframe tbody tr th {\n",
       "        vertical-align: top;\n",
       "    }\n",
       "\n",
       "    .dataframe thead th {\n",
       "        text-align: right;\n",
       "    }\n",
       "</style>\n",
       "<table border=\"1\" class=\"dataframe\">\n",
       "  <thead>\n",
       "    <tr style=\"text-align: right;\">\n",
       "      <th>Yes_Attrition</th>\n",
       "      <th>0</th>\n",
       "      <th>1</th>\n",
       "    </tr>\n",
       "    <tr>\n",
       "      <th>Tenure</th>\n",
       "      <th></th>\n",
       "      <th></th>\n",
       "    </tr>\n",
       "  </thead>\n",
       "  <tbody>\n",
       "    <tr>\n",
       "      <th>9</th>\n",
       "      <td>48</td>\n",
       "      <td>4</td>\n",
       "    </tr>\n",
       "    <tr>\n",
       "      <th>17</th>\n",
       "      <td>7</td>\n",
       "      <td>0</td>\n",
       "    </tr>\n",
       "    <tr>\n",
       "      <th>4</th>\n",
       "      <td>56</td>\n",
       "      <td>13</td>\n",
       "    </tr>\n",
       "  </tbody>\n",
       "</table>\n",
       "</div>"
      ],
      "text/plain": [
       "Yes_Attrition   0   1\n",
       "Tenure               \n",
       "9              48   4\n",
       "17              7   0\n",
       "4              56  13"
      ]
     },
     "execution_count": 40,
     "metadata": {},
     "output_type": "execute_result"
    }
   ],
   "source": [
    "#Set alpha observe frequency's\n",
    "\n",
    "alpha = 0.05\n",
    "Tenure_observed = pd.crosstab(selected_train.Tenure, selected_train.Yes_Attrition)\n",
    "Tenure_observed.sample(3)"
   ]
  },
  {
   "cell_type": "code",
   "execution_count": 62,
   "id": "9b0e8f10-8b5a-449f-b972-abe837933750",
   "metadata": {},
   "outputs": [],
   "source": [
    "Tenure_observed1 = np.array([[9, 48, 4],\n",
    "                              [17, 7, 0],\n",
    "                              [4, 56, 13]])\n"
   ]
  },
  {
   "cell_type": "code",
   "execution_count": 42,
   "id": "f57c6f9a-cc4b-4721-ab86-c66aa755359c",
   "metadata": {},
   "outputs": [],
   "source": [
    "chi2, p, dof, expected = chi2_contingency(Tenure_observed)\n"
   ]
  },
  {
   "cell_type": "code",
   "execution_count": 43,
   "id": "70522425-b9c2-4f21-86c9-fe8af3b8a2c8",
   "metadata": {},
   "outputs": [
    {
     "name": "stdout",
     "output_type": "stream",
     "text": [
      "Chi-square statistic: 55.82273536999766\n",
      "p-value: 0.005669623486344228\n",
      "Degrees of freedom: 32\n",
      "Expected frequencies: [[20.89002268  4.10997732]\n",
      " [79.38208617 15.61791383]\n",
      " [63.50566893 12.49433107]\n",
      " [70.19047619 13.80952381]\n",
      " [57.65646259 11.34353741]]\n"
     ]
    }
   ],
   "source": [
    "# Print chi-square statistic, p-value, degrees of freedom, and expected frequencies\n",
    "print(\"Chi-square statistic:\", chi2)\n",
    "print(\"p-value:\", p)\n",
    "print(\"Degrees of freedom:\", dof)\n",
    "print(\"Expected frequencies:\", expected[:5])\n"
   ]
  },
  {
   "cell_type": "code",
   "execution_count": 63,
   "id": "9302d1d3-205b-4e4e-9637-a6d1d6f04436",
   "metadata": {},
   "outputs": [
    {
     "data": {
      "image/png": "[encoded data removed]",
      "text/plain": [
       "<Figure size 640x480 with 2 Axes>"
      ]
     },
     "metadata": {},
     "output_type": "display_data"
    }
   ],
   "source": [
    "#Plot the observed frequencies\n",
    "fig, ax = plt.subplots()\n",
    "cax = ax.matshow(Tenure_observed1, cmap='RdYlBu')\n",
    "fig.colorbar(cax)\n",
    "\n",
    "# Add text to each cell\n",
    "for i in range(Tenure_observed1.shape[0]):\n",
    "    for j in range(Tenure_observed1.shape[1]):\n",
    "        ax.text(j, i, Tenure_observed1[i, j], va='center', ha='center')\n",
    "\n",
    "# Set x and y axis labels\n",
    "plt.xlabel('Column')\n",
    "plt.ylabel('Row')\n",
    "\n",
    "# Set plot title\n",
    "plt.title('Observed Frequencies')\n",
    "\n",
    "# Show the plot\n",
    "plt.show()\n"
   ]
  },
  {
   "cell_type": "code",
   "execution_count": 45,
   "id": "f07c927e-aee9-4aa2-970d-153f692cdc2b",
   "metadata": {},
   "outputs": [
    {
     "name": "stdout",
     "output_type": "stream",
     "text": [
      "The p-value is less than the alpha: True\n",
      "Outcome: We reject the null\n"
     ]
    }
   ],
   "source": [
    "print(f'The p-value is less than the alpha: {p < alpha}')\n",
    "\n",
    "if p < alpha:\n",
    "    print('Outcome: We reject the null')\n",
    "else:\n",
    "    print(\"Outcome: We fail to reject the null\")\n",
    "    "
   ]
  },
  {
   "cell_type": "markdown",
   "id": "ebc91cbd-c00e-4c4f-a213-2bb141a42f84",
   "metadata": {
    "jp-MarkdownHeadingCollapsed": true,
    "tags": []
   },
   "source": [
    "# STATISTICAL FINDINGS\n",
    "\n",
    "- Age Hypothesis - We reject the Null Hypothesis, Age is dependent on employee Attrition.\n",
    "- Education Hypothesis We reject the Null Hypothesis, education is dependent on  on employee Attrition.\n",
    "- Tenure Hypothesis - We fail to reject the Null Hypothesis, Tenure is independent of employee Attrition. \n"
   ]
  },
  {
   "cell_type": "markdown",
   "id": "5a7d4dcc-96a7-4681-870d-c654f7ca0f70",
   "metadata": {
    "tags": []
   },
   "source": [
    "# SPLITTING DATA"
   ]
  },
  {
   "cell_type": "code",
   "execution_count": 46,
   "id": "4b5c6191-abf4-4433-bbfc-707b0c4afcef",
   "metadata": {},
   "outputs": [],
   "source": [
    "def X_y_split(selected_train, selected_validate, selected_test):\n",
    "    # Splitting the data into X and Y to take out the data with churn and those without \n",
    "    selected_X_train = selected_train.select_dtypes(exclude=['object']).drop(columns=['Yes_Attrition'])\n",
    "    selected_y_train = selected_train.select_dtypes(exclude=['object']).Yes_Attrition\n",
    "    \n",
    "    selected_X_validate = selected_validate.select_dtypes(exclude=['object']).drop(columns=['Yes_Attrition'])\n",
    "    selected_y_validate = selected_validate.select_dtypes(exclude=['object']).Yes_Attrition\n",
    "    \n",
    "    selected_X_test = selected_test.select_dtypes(exclude=['object']).drop(columns=['Yes_Attrition'])\n",
    "    selected_y_test = selected_test.select_dtypes(exclude=['object']).Yes_Attrition\n",
    "    \n",
    "    return selected_X_train, selected_y_train, selected_X_validate, selected_y_validate, selected_X_test, selected_y_test"
   ]
  },
  {
   "cell_type": "code",
   "execution_count": 47,
   "id": "0187990b-f3a2-4b1c-bff9-a4cc49ce6ea8",
   "metadata": {
    "tags": []
   },
   "outputs": [],
   "source": [
    "#Split the data in to X and Y for all datasets with Yes_Attrition and those without \n",
    "\n",
    "selected_X_train, selected_y_train, selected_X_validate, selected_y_validate, selected_X_test, selected_y_test=X_y_split(selected_train, selected_validate, selected_test) "
   ]
  },
  {
   "cell_type": "code",
   "execution_count": 48,
   "id": "bd7d94a3-4b3b-47c2-b98f-2e118de4827a",
   "metadata": {},
   "outputs": [
    {
     "data": {
      "text/plain": [
       "(882,)"
      ]
     },
     "execution_count": 48,
     "metadata": {},
     "output_type": "execute_result"
    }
   ],
   "source": [
    "selected_y_train.head()\n",
    "selected_y_train.shape"
   ]
  },
  {
   "cell_type": "markdown",
   "id": "d8814191-6aa2-4532-822a-f3418dc93af0",
   "metadata": {},
   "source": [
    "# CLASSIFICATION MOELING"
   ]
  },
  {
   "cell_type": "markdown",
   "id": "08b71f90-7fc4-4464-85a2-736806fda726",
   "metadata": {},
   "source": [
    "# EVALUATE BASELINE "
   ]
  },
  {
   "cell_type": "code",
   "execution_count": 49,
   "id": "c94188c0-6897-4ac7-b2f3-9fa0518670bc",
   "metadata": {},
   "outputs": [
    {
     "name": "stdout",
     "output_type": "stream",
     "text": [
      "The baseline accuracy is: 83.56%\n"
     ]
    }
   ],
   "source": [
    "baseline =(selected_y_train==0).mean()\n",
    "print(f'The baseline accuracy is: {baseline:.2%}')"
   ]
  },
  {
   "cell_type": "markdown",
   "id": "057d7662-882a-4192-bf0b-6ef7d5a290ad",
   "metadata": {},
   "source": [
    "### RANDOM FOREST"
   ]
  },
  {
   "cell_type": "code",
   "execution_count": 50,
   "id": "c1e8aa4a-0dcf-485f-8f4f-a017c2966826",
   "metadata": {},
   "outputs": [],
   "source": [
    "#Make Random Forest Classifier model\n",
    "selected_y_train_random = RandomForestClassifier(bootstrap=True, \n",
    "                            class_weight=None, \n",
    "                            criterion='gini',\n",
    "                            min_samples_leaf=1,\n",
    "                            n_estimators=100,\n",
    "                            max_depth=10, \n",
    "                            random_state=123)"
   ]
  },
  {
   "cell_type": "code",
   "execution_count": 51,
   "id": "fc70626d-0b5c-4208-8236-d8699f9f9c62",
   "metadata": {},
   "outputs": [
    {
     "data": {
      "text/html": [
       "<style>#sk-container-id-1 {color: black;background-color: white;}#sk-container-id-1 pre{padding: 0;}#sk-container-id-1 div.sk-toggleable {background-color: white;}#sk-container-id-1 label.sk-toggleable__label {cursor: pointer;display: block;width: 100%;margin-bottom: 0;padding: 0.3em;box-sizing: border-box;text-align: center;}#sk-container-id-1 label.sk-toggleable__label-arrow:before {content: \"▸\";float: left;margin-right: 0.25em;color: #696969;}#sk-container-id-1 label.sk-toggleable__label-arrow:hover:before {color: black;}#sk-container-id-1 div.sk-estimator:hover label.sk-toggleable__label-arrow:before {color: black;}#sk-container-id-1 div.sk-toggleable__content {max-height: 0;max-width: 0;overflow: hidden;text-align: left;background-color: #f0f8ff;}#sk-container-id-1 div.sk-toggleable__content pre {margin: 0.2em;color: black;border-radius: 0.25em;background-color: #f0f8ff;}#sk-container-id-1 input.sk-toggleable__control:checked~div.sk-toggleable__content {max-height: 200px;max-width: 100%;overflow: auto;}#sk-container-id-1 input.sk-toggleable__control:checked~label.sk-toggleable__label-arrow:before {content: \"▾\";}#sk-container-id-1 div.sk-estimator input.sk-toggleable__control:checked~label.sk-toggleable__label {background-color: #d4ebff;}#sk-container-id-1 div.sk-label input.sk-toggleable__control:checked~label.sk-toggleable__label {background-color: #d4ebff;}#sk-container-id-1 input.sk-hidden--visually {border: 0;clip: rect(1px 1px 1px 1px);clip: rect(1px, 1px, 1px, 1px);height: 1px;margin: -1px;overflow: hidden;padding: 0;position: absolute;width: 1px;}#sk-container-id-1 div.sk-estimator {font-family: monospace;background-color: #f0f8ff;border: 1px dotted black;border-radius: 0.25em;box-sizing: border-box;margin-bottom: 0.5em;}#sk-container-id-1 div.sk-estimator:hover {background-color: #d4ebff;}#sk-container-id-1 div.sk-parallel-item::after {content: \"\";width: 100%;border-bottom: 1px solid gray;flex-grow: 1;}#sk-container-id-1 div.sk-label:hover label.sk-toggleable__label {background-color: #d4ebff;}#sk-container-id-1 div.sk-serial::before {content: \"\";position: absolute;border-left: 1px solid gray;box-sizing: border-box;top: 0;bottom: 0;left: 50%;z-index: 0;}#sk-container-id-1 div.sk-serial {display: flex;flex-direction: column;align-items: center;background-color: white;padding-right: 0.2em;padding-left: 0.2em;position: relative;}#sk-container-id-1 div.sk-item {position: relative;z-index: 1;}#sk-container-id-1 div.sk-parallel {display: flex;align-items: stretch;justify-content: center;background-color: white;position: relative;}#sk-container-id-1 div.sk-item::before, #sk-container-id-1 div.sk-parallel-item::before {content: \"\";position: absolute;border-left: 1px solid gray;box-sizing: border-box;top: 0;bottom: 0;left: 50%;z-index: -1;}#sk-container-id-1 div.sk-parallel-item {display: flex;flex-direction: column;z-index: 1;position: relative;background-color: white;}#sk-container-id-1 div.sk-parallel-item:first-child::after {align-self: flex-end;width: 50%;}#sk-container-id-1 div.sk-parallel-item:last-child::after {align-self: flex-start;width: 50%;}#sk-container-id-1 div.sk-parallel-item:only-child::after {width: 0;}#sk-container-id-1 div.sk-dashed-wrapped {border: 1px dashed gray;margin: 0 0.4em 0.5em 0.4em;box-sizing: border-box;padding-bottom: 0.4em;background-color: white;}#sk-container-id-1 div.sk-label label {font-family: monospace;font-weight: bold;display: inline-block;line-height: 1.2em;}#sk-container-id-1 div.sk-label-container {text-align: center;}#sk-container-id-1 div.sk-container {/* jupyter's `normalize.less` sets `[hidden] { display: none; }` but bootstrap.min.css set `[hidden] { display: none !important; }` so we also need the `!important` here to be able to override the default hidden behavior on the sphinx rendered scikit-learn.org. See: https://github.com/scikit-learn/scikit-learn/issues/21755 */display: inline-block !important;position: relative;}#sk-container-id-1 div.sk-text-repr-fallback {display: none;}</style><div id=\"sk-container-id-1\" class=\"sk-top-container\"><div class=\"sk-text-repr-fallback\"><pre>RandomForestClassifier(max_depth=10, random_state=123)</pre><b>In a Jupyter environment, please rerun this cell to show the HTML representation or trust the notebook. <br />On GitHub, the HTML representation is unable to render, please try loading this page with nbviewer.org.</b></div><div class=\"sk-container\" hidden><div class=\"sk-item\"><div class=\"sk-estimator sk-toggleable\"><input class=\"sk-toggleable__control sk-hidden--visually\" id=\"sk-estimator-id-1\" type=\"checkbox\" checked><label for=\"sk-estimator-id-1\" class=\"sk-toggleable__label sk-toggleable__label-arrow\">RandomForestClassifier</label><div class=\"sk-toggleable__content\"><pre>RandomForestClassifier(max_depth=10, random_state=123)</pre></div></div></div></div></div>"
      ],
      "text/plain": [
       "RandomForestClassifier(max_depth=10, random_state=123)"
      ]
     },
     "execution_count": 51,
     "metadata": {},
     "output_type": "execute_result"
    }
   ],
   "source": [
    "#Fit  Random Forest Classifier model \n",
    "selected_y_train_random.fit(selected_X_train, selected_y_train)"
   ]
  },
  {
   "cell_type": "code",
   "execution_count": 52,
   "id": "ea5b8093-09fc-44a9-88ee-19e68d084f55",
   "metadata": {},
   "outputs": [
    {
     "name": "stdout",
     "output_type": "stream",
     "text": [
      "training score: 90.48%\n",
      "validate score: 78.23%\n",
      "Random forest scores are both higher than baseline accuracy\n"
     ]
    }
   ],
   "source": [
    "#Use  Random Forest Classifier model \n",
    "print(f'training score: {selected_y_train_random.score(selected_X_train, selected_y_train):.2%}')\n",
    "print(f'validate score: {selected_y_train_random.score(selected_X_validate, selected_y_validate):.2%}')\n",
    "print('Random forest scores are both higher than baseline accuracy')"
   ]
  },
  {
   "cell_type": "markdown",
   "id": "91e98485-b917-4ac1-8d06-d862faeb381e",
   "metadata": {},
   "source": [
    "### LOGISTIC REGRESSION"
   ]
  },
  {
   "cell_type": "code",
   "execution_count": 53,
   "id": "3cbcf4ad-be93-41c4-a52b-8f48977f6ec9",
   "metadata": {},
   "outputs": [],
   "source": [
    "# Make Logistic Regression model\n",
    "selected_y_train_logreg = LogisticRegression(C=1, random_state=123)"
   ]
  },
  {
   "cell_type": "code",
   "execution_count": 54,
   "id": "8db816d5-bcdf-4089-89cd-cb1deca34909",
   "metadata": {},
   "outputs": [
    {
     "data": {
      "text/html": [
       "<style>#sk-container-id-2 {color: black;background-color: white;}#sk-container-id-2 pre{padding: 0;}#sk-container-id-2 div.sk-toggleable {background-color: white;}#sk-container-id-2 label.sk-toggleable__label {cursor: pointer;display: block;width: 100%;margin-bottom: 0;padding: 0.3em;box-sizing: border-box;text-align: center;}#sk-container-id-2 label.sk-toggleable__label-arrow:before {content: \"▸\";float: left;margin-right: 0.25em;color: #696969;}#sk-container-id-2 label.sk-toggleable__label-arrow:hover:before {color: black;}#sk-container-id-2 div.sk-estimator:hover label.sk-toggleable__label-arrow:before {color: black;}#sk-container-id-2 div.sk-toggleable__content {max-height: 0;max-width: 0;overflow: hidden;text-align: left;background-color: #f0f8ff;}#sk-container-id-2 div.sk-toggleable__content pre {margin: 0.2em;color: black;border-radius: 0.25em;background-color: #f0f8ff;}#sk-container-id-2 input.sk-toggleable__control:checked~div.sk-toggleable__content {max-height: 200px;max-width: 100%;overflow: auto;}#sk-container-id-2 input.sk-toggleable__control:checked~label.sk-toggleable__label-arrow:before {content: \"▾\";}#sk-container-id-2 div.sk-estimator input.sk-toggleable__control:checked~label.sk-toggleable__label {background-color: #d4ebff;}#sk-container-id-2 div.sk-label input.sk-toggleable__control:checked~label.sk-toggleable__label {background-color: #d4ebff;}#sk-container-id-2 input.sk-hidden--visually {border: 0;clip: rect(1px 1px 1px 1px);clip: rect(1px, 1px, 1px, 1px);height: 1px;margin: -1px;overflow: hidden;padding: 0;position: absolute;width: 1px;}#sk-container-id-2 div.sk-estimator {font-family: monospace;background-color: #f0f8ff;border: 1px dotted black;border-radius: 0.25em;box-sizing: border-box;margin-bottom: 0.5em;}#sk-container-id-2 div.sk-estimator:hover {background-color: #d4ebff;}#sk-container-id-2 div.sk-parallel-item::after {content: \"\";width: 100%;border-bottom: 1px solid gray;flex-grow: 1;}#sk-container-id-2 div.sk-label:hover label.sk-toggleable__label {background-color: #d4ebff;}#sk-container-id-2 div.sk-serial::before {content: \"\";position: absolute;border-left: 1px solid gray;box-sizing: border-box;top: 0;bottom: 0;left: 50%;z-index: 0;}#sk-container-id-2 div.sk-serial {display: flex;flex-direction: column;align-items: center;background-color: white;padding-right: 0.2em;padding-left: 0.2em;position: relative;}#sk-container-id-2 div.sk-item {position: relative;z-index: 1;}#sk-container-id-2 div.sk-parallel {display: flex;align-items: stretch;justify-content: center;background-color: white;position: relative;}#sk-container-id-2 div.sk-item::before, #sk-container-id-2 div.sk-parallel-item::before {content: \"\";position: absolute;border-left: 1px solid gray;box-sizing: border-box;top: 0;bottom: 0;left: 50%;z-index: -1;}#sk-container-id-2 div.sk-parallel-item {display: flex;flex-direction: column;z-index: 1;position: relative;background-color: white;}#sk-container-id-2 div.sk-parallel-item:first-child::after {align-self: flex-end;width: 50%;}#sk-container-id-2 div.sk-parallel-item:last-child::after {align-self: flex-start;width: 50%;}#sk-container-id-2 div.sk-parallel-item:only-child::after {width: 0;}#sk-container-id-2 div.sk-dashed-wrapped {border: 1px dashed gray;margin: 0 0.4em 0.5em 0.4em;box-sizing: border-box;padding-bottom: 0.4em;background-color: white;}#sk-container-id-2 div.sk-label label {font-family: monospace;font-weight: bold;display: inline-block;line-height: 1.2em;}#sk-container-id-2 div.sk-label-container {text-align: center;}#sk-container-id-2 div.sk-container {/* jupyter's `normalize.less` sets `[hidden] { display: none; }` but bootstrap.min.css set `[hidden] { display: none !important; }` so we also need the `!important` here to be able to override the default hidden behavior on the sphinx rendered scikit-learn.org. See: https://github.com/scikit-learn/scikit-learn/issues/21755 */display: inline-block !important;position: relative;}#sk-container-id-2 div.sk-text-repr-fallback {display: none;}</style><div id=\"sk-container-id-2\" class=\"sk-top-container\"><div class=\"sk-text-repr-fallback\"><pre>LogisticRegression(C=1, random_state=123)</pre><b>In a Jupyter environment, please rerun this cell to show the HTML representation or trust the notebook. <br />On GitHub, the HTML representation is unable to render, please try loading this page with nbviewer.org.</b></div><div class=\"sk-container\" hidden><div class=\"sk-item\"><div class=\"sk-estimator sk-toggleable\"><input class=\"sk-toggleable__control sk-hidden--visually\" id=\"sk-estimator-id-2\" type=\"checkbox\" checked><label for=\"sk-estimator-id-2\" class=\"sk-toggleable__label sk-toggleable__label-arrow\">LogisticRegression</label><div class=\"sk-toggleable__content\"><pre>LogisticRegression(C=1, random_state=123)</pre></div></div></div></div></div>"
      ],
      "text/plain": [
       "LogisticRegression(C=1, random_state=123)"
      ]
     },
     "execution_count": 54,
     "metadata": {},
     "output_type": "execute_result"
    }
   ],
   "source": [
    "selected_y_train_logreg.fit(selected_X_train,selected_y_train)"
   ]
  },
  {
   "cell_type": "code",
   "execution_count": 55,
   "id": "0e8adada-01aa-4617-ad8f-f2c000d79c26",
   "metadata": {},
   "outputs": [],
   "source": [
    "y_pred = selected_y_train_logreg.predict(selected_X_train)"
   ]
  },
  {
   "cell_type": "code",
   "execution_count": 56,
   "id": "7a46b71f-431a-4e2e-a797-2f2b33f299be",
   "metadata": {},
   "outputs": [
    {
     "name": "stdout",
     "output_type": "stream",
     "text": [
      "logistic regression training score: 83.56%\n",
      "logistic regression validate score: 81.63%\n",
      "Logistic regression scores are both higher than baseline accuracy\n"
     ]
    }
   ],
   "source": [
    "print(f'logistic regression training score: {selected_y_train_logreg.score(selected_X_train, selected_y_train):.2%}')\n",
    "print(f'logistic regression validate score: {selected_y_train_logreg.score(selected_X_validate, selected_y_validate):.2%}')\n",
    "print('Logistic regression scores are both higher than baseline accuracy')"
   ]
  },
  {
   "cell_type": "markdown",
   "id": "61e57584-9843-4396-be66-11e87edf698b",
   "metadata": {},
   "source": [
    "### DECISION TREE"
   ]
  },
  {
   "cell_type": "code",
   "execution_count": 57,
   "id": "43a77eea-7719-411f-b9d7-09b1520b76cb",
   "metadata": {},
   "outputs": [],
   "source": [
    "# Make, FIT, Use Decision Tree\n",
    "decision = DecisionTreeClassifier(max_depth=3, random_state=123)\n",
    "decision = decision.fit(selected_X_train, selected_y_train)\n"
   ]
  },
  {
   "cell_type": "code",
   "execution_count": 58,
   "id": "533f826d-7eda-4d6b-9ea5-ed125e45a9e5",
   "metadata": {},
   "outputs": [
    {
     "name": "stdout",
     "output_type": "stream",
     "text": [
      "Decision tree training score: 84.47%\n",
      "Decision tree validate score: 81.63%\n",
      "Decision tree scores are both higher than baseline accuracy\n"
     ]
    }
   ],
   "source": [
    "print(f'Decision tree training score: {decision.score(selected_X_train, selected_y_train):.2%}')\n",
    "print(f'Decision tree validate score: {decision.score(selected_X_validate, selected_y_validate):.2%}')\n",
    "print('Decision tree scores are both higher than baseline accuracy')"
   ]
  },
  {
   "cell_type": "markdown",
   "id": "27f47c00-e735-4206-9d5f-0ca068fb4b1b",
   "metadata": {},
   "source": [
    "# TOP MODEL SELECTION\n",
    "\n",
    "\n",
    "**Logistic Regression failed to out perform the baseline accuracy of 83%,the scores were tied in the training and in validation failed to out perform the baseline. Decision Tree had better consistentcy and Random Forest had better accuracy ,both model sets achieved an accuracy of around 84%. The Decision Tree model was chosen for it's consistency.**\n"
   ]
  },
  {
   "cell_type": "markdown",
   "id": "9bcfd25b-e01e-42f8-97c7-fa0e83d79867",
   "metadata": {},
   "source": [
    "# TOP MODEL TEST"
   ]
  },
  {
   "cell_type": "code",
   "execution_count": 59,
   "id": "6fce5bb2-24b2-48f1-9ec8-163aaf66d590",
   "metadata": {},
   "outputs": [],
   "source": [
    "# Test fitted model\n",
    "decision.fit(selected_X_test, selected_y_test)\n",
    "y_prediction = decision.predict(selected_X_test)\n",
    "# decision.classes_\n",
    "#decision.predict_proba((selected_X_test) [:,1]"
   ]
  },
  {
   "cell_type": "code",
   "execution_count": 60,
   "id": "03d580e3-66b1-44b3-a6c7-94e6b4b33b3b",
   "metadata": {},
   "outputs": [
    {
     "name": "stdout",
     "output_type": "stream",
     "text": [
      "Decision tree test score: 87.41%\n",
      "Train & Validate decision tree model scores were higher than baseline accuracy with a consistant accuracy of 84%. Test Decesion Tree apprx 89%\n"
     ]
    }
   ],
   "source": [
    "print(f'Decision tree test score: {decision.score(selected_X_test, selected_y_test):.2%}')\n",
    "print('Train & Validate decision tree model scores were higher than baseline accuracy with a consistant accuracy of 84%. Test Decesion Tree apprx 89%')"
   ]
  },
  {
   "cell_type": "code",
   "execution_count": 61,
   "id": "75c8448a-b2d6-4e0a-88f8-bc6fd914394f",
   "metadata": {},
   "outputs": [
    {
     "name": "stdout",
     "output_type": "stream",
     "text": [
      "              precision    recall  f1-score   support\n",
      "\n",
      "           0       0.87      1.00      0.93       256\n",
      "           1       1.00      0.03      0.05        38\n",
      "\n",
      "    accuracy                           0.87       294\n",
      "   macro avg       0.94      0.51      0.49       294\n",
      "weighted avg       0.89      0.87      0.82       294\n",
      "\n"
     ]
    }
   ],
   "source": [
    "print(classification_report(selected_y_test, y_prediction))"
   ]
  },
  {
   "cell_type": "markdown",
   "id": "c376979f-f7ba-499a-b213-f3dc1880019b",
   "metadata": {
    "tags": []
   },
   "source": [
    "## CONCLUSION \n",
    "\n",
    "- Three features  selected based on their visual significance and chi-square statistical testing for training the Classification Model to determine their significant relationship .\n",
    "- Age Hypothesis - We reject the Null Hypothesis, Age is dependent on employee Attrition.\n",
    "- Education Hypothesis- We reject the Null Hypothesis, education is dependent on  on employee Attrition.\n",
    "- Tenure Hypothesis - We fail to reject the Null Hypothesis, Tenure is independent of employee Attrition. \n",
    "- Decision Tree, Logistic Regression, and Random Forest models were implemented with a Random Seed of 123 to avoid overfitting.\n",
    "\n",
    "- Logistic Regression failed to out perform the baseline accuracy of 83%,the scores were tied in the training and in validation failed to out perform the baseline. Decision Tree had better consistentcy and Random Forest had better accuracy ,both model sets achieved an accuracy of around 84%. The Decision Tree model was chosen for it's consistency.\n",
    "\n",
    "\n",
    "\n",
    "\n",
    "## TAKEAWAYS \n",
    "\n",
    "1. **Age:** The graph shows that employee attrition is highest for employees in their 20s and 30s, and then declines as employees get older. This suggests that age may be a factor in employee attrition. Employees in their 20s and 30s may be more likely to leave the company because they are still exploring their career options and they may be more likely to be offered new opportunities at other companies.\n",
    "\n",
    "2. **Education level:** The chart reveals that there is a significant relationship between education level and employee attrition. The higher the education level, the higher the attrition rate. For example, the attrition rate for employees with a doctoral degree is 25%, while the attrition rate for employees with a high school diploma is only 10%.\n",
    "\n",
    "\n",
    "3. **Tenure:** The graph shows that employee attrition is highest for employees with less tenure. For example, 15% of employees with less than 1 year of tenure have left the company, while only 5% of employees with more than 10 years of tenure have left the company.\n",
    "\n",
    "#### Overall, the charts suggest that there are a number of factors that can contribute to employee attrition. Companies can keep their employees by understanding these factors and taking steps to address them.\n",
    "\n",
    "\n",
    "## RECOMMENDATIONS\n",
    "\n",
    "1. To keep employees in their 20s and 30s, companies can offer them opportunities for career development and advancement. They can also create a culture that values employee learning and growth.\n",
    "\n",
    "2.  To keep employees with higher education levels, companies can offer them competitive salaries and benefits. They can also create a culture that values intellectual curiosity and innovation.\n",
    "\n",
    "3. To keep employees with less tenure, companies can offer them mentorship and training programs. They can also create a culture that values employee engagement and belonging.\n",
    "\n",
    "\n",
    "# Improving these factors can reduce churn rates.\n",
    "\n",
    "Here are some additional recommendations:\n",
    "\n",
    "Offer competitive salaries and benefits: This is one of the most important factors in keeping employees. Employees need to feel that they are being fairly compensated for their work.\n",
    "Create a positive work environment: This includes factors such as a supportive culture, good relationships with managers, and opportunities for growth.\n",
    "Provide opportunities for professional development: This shows employees that the company is invested in their careers. It also gives them the skills they need to advance in their careers.\n",
    "Listen to employee feedback: This shows employees that their voices are heard and that their concerns are taken seriously. It also helps companies identify areas where they can improve.\n",
    "By following these recommendations, companies can reduce employee attrition and keep their best employees engaged and productive.\n",
    "\n",
    "## NEXT STEPS\n",
    "\n",
    "1. **Feature Engineering:** Observe additional employee characteristics, e.g. Performance Rating , Job Satisfaction , work life balance, Amount of time since last promotion to name a few.\n",
    "\n",
    "2. **Time-Series Analysis**: Continue probing the data expanding features for further observation over time.\n",
    "\n",
    "\n",
    "### SOURCES\n",
    "\n",
    "1. Carter, A. (2023). Classification Project. GitHub. Retrieved from https://github.com/annie-carter/classification_project\n",
    "\n",
    "2. @data{2m1g-6v47-23,\n",
    "doi = {10.21227/2m1g-6v47},\n",
    "url = {https://dx.doi.org/10.21227/2m1g-6v47},author = {M S, Ajmal and DESHPANDE, TANMAY and Data Scientists, IBM},publisher = {IEEE Dataport},title = {IBM HR Analytics Employee Attrition & Performance},year = {2023} }\n",
    "### Licensing: Creative Commons Attribution\n",
    "\n",
    "\n",
    "\n"
   ]
  }
 ],
 "metadata": {
  "kernelspec": {
   "display_name": "Python 3 (ipykernel)",
   "language": "python",
   "name": "python3"
  },
  "language_info": {
   "codemirror_mode": {
    "name": "ipython",
    "version": 3
   },
   "file_extension": ".py",
   "mimetype": "text/x-python",
   "name": "python",
   "nbconvert_exporter": "python",
   "pygments_lexer": "ipython3",
   "version": "3.10.9"
  },
  "varInspector": {
   "cols": {
    "lenName": 16,
    "lenType": 16,
    "lenVar": 40
   },
   "kernels_config": {
    "python": {
     "delete_cmd_postfix": "",
     "delete_cmd_prefix": "del ",
     "library": "var_list.py",
     "varRefreshCmd": "print(var_dic_list())"
    },
    "r": {
     "delete_cmd_postfix": ") ",
     "delete_cmd_prefix": "rm(",
     "library": "var_list.r",
     "varRefreshCmd": "cat(var_dic_list()) "
    }
   },
   "types_to_exclude": [
    "module",
    "function",
    "builtin_function_or_method",
    "instance",
    "_Feature"
   ],
   "window_display": false
  }
 },
 "nbformat": 4,
 "nbformat_minor": 5
}
